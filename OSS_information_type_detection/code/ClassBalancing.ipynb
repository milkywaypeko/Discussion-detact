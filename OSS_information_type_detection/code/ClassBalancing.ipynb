{
  "cells": [
    {
      "cell_type": "code",
      "execution_count": 1,
      "metadata": {
        "id": "hT-UTGearLRs"
      },
      "outputs": [],
      "source": [
        "import pandas as pd "
      ]
    },
    {
      "cell_type": "code",
      "execution_count": 2,
      "metadata": {
        "id": "lo0s2yOgrgnD"
      },
      "outputs": [],
      "source": [
        "df=pd.read_excel(\"../data/old_data/text_conv_data.xlsx\")"
      ]
    },
    {
      "cell_type": "code",
      "execution_count": 3,
      "metadata": {},
      "outputs": [],
      "source": [
        "df = df.dropna(subset=['Text Content'])\n"
      ]
    },
    {
      "cell_type": "code",
      "execution_count": 4,
      "metadata": {
        "colab": {
          "base_uri": "https://localhost:8080/"
        },
        "id": "3UcwCYferl99",
        "outputId": "928b0eb5-27dd-441a-8b20-107092a3df49"
      },
      "outputs": [
        {
          "name": "stdout",
          "output_type": "stream",
          "text": [
            "<class 'pandas.core.frame.DataFrame'>\n",
            "RangeIndex: 4330 entries, 0 to 4329\n",
            "Data columns (total 2 columns):\n",
            " #   Column        Non-Null Count  Dtype \n",
            "---  ------        --------------  ----- \n",
            " 0   Text Content  4330 non-null   object\n",
            " 1   Code          4330 non-null   object\n",
            "dtypes: object(2)\n",
            "memory usage: 67.8+ KB\n"
          ]
        }
      ],
      "source": [
        "df.info()"
      ]
    },
    {
      "cell_type": "code",
      "execution_count": 5,
      "metadata": {
        "colab": {
          "base_uri": "https://localhost:8080/"
        },
        "id": "9IrkMckwr7W0",
        "outputId": "386d6dd9-db83-4c48-e373-eec74ae95fe5"
      },
      "outputs": [
        {
          "name": "stdout",
          "output_type": "stream",
          "text": [
            "Solution Discussion                  1411\n",
            "Social Conversation                   798\n",
            "Investigation and Exploration         377\n",
            "Solution Usage                        368\n",
            "Motivation                            288\n",
            "Bug Reproduction                      245\n",
            "Potential New Issues and Requests     230\n",
            "Observed Bug Behaviour                131\n",
            "Task Progress                         125\n",
            "Expected Behaviour                    124\n",
            "Workarounds                            89\n",
            "Contribution and Commitment            83\n",
            "Action on Issue                        61\n",
            "Name: Code, dtype: int64\n"
          ]
        }
      ],
      "source": [
        "class_distribution = df['Code'].value_counts()\n",
        "print(class_distribution)\n"
      ]
    },
    {
      "cell_type": "code",
      "execution_count": 6,
      "metadata": {
        "id": "NfvxfGlos_OR"
      },
      "outputs": [],
      "source": [
        "df = df[df['Text Content'] != '1']\n"
      ]
    },
    {
      "cell_type": "code",
      "execution_count": 7,
      "metadata": {
        "colab": {
          "base_uri": "https://localhost:8080/"
        },
        "id": "Y5XNoEyctB2X",
        "outputId": "7aff3404-4f97-43cc-f5e0-2bca6e748da0"
      },
      "outputs": [
        {
          "name": "stdout",
          "output_type": "stream",
          "text": [
            "Solution Discussion                  1411\n",
            "Social Conversation                   798\n",
            "Investigation and Exploration         377\n",
            "Solution Usage                        368\n",
            "Motivation                            288\n",
            "Bug Reproduction                      245\n",
            "Potential New Issues and Requests     230\n",
            "Observed Bug Behaviour                131\n",
            "Task Progress                         125\n",
            "Expected Behaviour                    124\n",
            "Workarounds                            89\n",
            "Contribution and Commitment            83\n",
            "Action on Issue                        61\n",
            "Name: Code, dtype: int64\n"
          ]
        }
      ],
      "source": [
        "class_distribution = df['Code'].value_counts()\n",
        "print(class_distribution)\n"
      ]
    },
    {
      "cell_type": "code",
      "execution_count": 8,
      "metadata": {
        "id": "EbEU3BDSt86d"
      },
      "outputs": [],
      "source": [
        "labels_to_remove = [ \"Testing\",'Future Plan','Issue Content Management']\n",
        "df = df[~df['Code'].isin(labels_to_remove)]\n"
      ]
    },
    {
      "cell_type": "code",
      "execution_count": 9,
      "metadata": {
        "colab": {
          "base_uri": "https://localhost:8080/"
        },
        "id": "NN7LcIN4uiPD",
        "outputId": "95eead38-3798-4acf-f3b9-6afddb0f786f"
      },
      "outputs": [
        {
          "name": "stdout",
          "output_type": "stream",
          "text": [
            "Solution Discussion                  1411\n",
            "Social Conversation                   798\n",
            "Investigation and Exploration         377\n",
            "Solution Usage                        368\n",
            "Motivation                            288\n",
            "Bug Reproduction                      245\n",
            "Potential New Issues and Requests     230\n",
            "Observed Bug Behaviour                131\n",
            "Task Progress                         125\n",
            "Expected Behaviour                    124\n",
            "Workarounds                            89\n",
            "Contribution and Commitment            83\n",
            "Action on Issue                        61\n",
            "Name: Code, dtype: int64\n"
          ]
        }
      ],
      "source": [
        "class_distribution = df['Code'].value_counts()\n",
        "print(class_distribution)\n"
      ]
    },
    {
      "cell_type": "code",
      "execution_count": 10,
      "metadata": {
        "colab": {
          "base_uri": "https://localhost:8080/"
        },
        "id": "fCFmUsNxvYL7",
        "outputId": "8ee042e0-d7ce-40ca-eec9-b058083d54f1"
      },
      "outputs": [
        {
          "name": "stdout",
          "output_type": "stream",
          "text": [
            "<class 'pandas.core.frame.DataFrame'>\n",
            "Int64Index: 4330 entries, 0 to 4329\n",
            "Data columns (total 2 columns):\n",
            " #   Column        Non-Null Count  Dtype \n",
            "---  ------        --------------  ----- \n",
            " 0   Text Content  4330 non-null   object\n",
            " 1   Code          4330 non-null   object\n",
            "dtypes: object(2)\n",
            "memory usage: 101.5+ KB\n"
          ]
        }
      ],
      "source": [
        "df.info()"
      ]
    },
    {
      "cell_type": "code",
      "execution_count": 11,
      "metadata": {
        "colab": {
          "base_uri": "https://localhost:8080/"
        },
        "id": "reGJTHN3vcLi",
        "outputId": "0b865523-0b4d-4028-ab67-99b7957a9aa7"
      },
      "outputs": [
        {
          "name": "stdout",
          "output_type": "stream",
          "text": [
            "Index(['Text Content', 'Code'], dtype='object')\n"
          ]
        }
      ],
      "source": [
        "print(df.columns)"
      ]
    },
    {
      "cell_type": "code",
      "execution_count": 12,
      "metadata": {
        "colab": {
          "base_uri": "https://localhost:8080/"
        },
        "id": "LeP4Ar4C0rVk",
        "outputId": "168a2371-c3a1-44c5-c738-0dd43ed6a155"
      },
      "outputs": [
        {
          "name": "stdout",
          "output_type": "stream",
          "text": [
            "<class 'pandas.core.frame.DataFrame'>\n",
            "Int64Index: 4330 entries, 0 to 4329\n",
            "Data columns (total 2 columns):\n",
            " #   Column        Non-Null Count  Dtype \n",
            "---  ------        --------------  ----- \n",
            " 0   Text Content  4330 non-null   object\n",
            " 1   Code          4330 non-null   object\n",
            "dtypes: object(2)\n",
            "memory usage: 101.5+ KB\n"
          ]
        }
      ],
      "source": [
        "df.info()"
      ]
    },
    {
      "cell_type": "code",
      "execution_count": 13,
      "metadata": {
        "id": "0Ckm_UvI0yIj"
      },
      "outputs": [],
      "source": [
        "df.dropna(inplace=True)\n"
      ]
    },
    {
      "cell_type": "code",
      "execution_count": 14,
      "metadata": {
        "colab": {
          "base_uri": "https://localhost:8080/"
        },
        "id": "i8f_a4js3F5g",
        "outputId": "52501e3e-134c-467a-f764-bd117a9c91ca"
      },
      "outputs": [
        {
          "name": "stdout",
          "output_type": "stream",
          "text": [
            "<class 'pandas.core.frame.DataFrame'>\n",
            "Int64Index: 4330 entries, 0 to 4329\n",
            "Data columns (total 2 columns):\n",
            " #   Column        Non-Null Count  Dtype \n",
            "---  ------        --------------  ----- \n",
            " 0   Text Content  4330 non-null   object\n",
            " 1   Code          4330 non-null   object\n",
            "dtypes: object(2)\n",
            "memory usage: 101.5+ KB\n"
          ]
        }
      ],
      "source": [
        "df.info()"
      ]
    },
    {
      "cell_type": "code",
      "execution_count": 15,
      "metadata": {
        "colab": {
          "base_uri": "https://localhost:8080/"
        },
        "id": "rl_9GaxI4CTv",
        "outputId": "e55369e2-41bc-4d58-af1e-11082a168b68"
      },
      "outputs": [
        {
          "name": "stdout",
          "output_type": "stream",
          "text": [
            "Expected Behaviour                   1411\n",
            "Motivation                           1411\n",
            "Social Conversation                  1411\n",
            "Contribution and Commitment          1411\n",
            "Solution Discussion                  1411\n",
            "Task Progress                        1411\n",
            "Workarounds                          1411\n",
            "Action on Issue                      1411\n",
            "Potential New Issues and Requests    1411\n",
            "Solution Usage                       1411\n",
            "Observed Bug Behaviour               1411\n",
            "Investigation and Exploration        1411\n",
            "Bug Reproduction                     1411\n",
            "Name: Code, dtype: int64\n"
          ]
        }
      ],
      "source": [
        "import pandas as pd\n",
        "from imblearn.over_sampling import RandomOverSampler\n",
        "\n",
        "# Separate the feature columns and the target column\n",
        "X = df['Text Content']\n",
        "y = df['Code']\n",
        "\n",
        "# Create an instance of RandomOverSampler\n",
        "oversampler = RandomOverSampler()\n",
        "\n",
        "# Perform oversampling on the data\n",
        "X_resampled, y_resampled = oversampler.fit_resample(X.to_numpy().reshape(-1, 1), y)\n",
        "\n",
        "# Convert the oversampled arrays back to a DataFrame\n",
        "df_oversampled = pd.DataFrame({'Text Content': X_resampled.flatten(), 'Code': y_resampled})\n",
        "\n",
        "# Verify the class distribution after oversampling\n",
        "print(df_oversampled['Code'].value_counts())\n"
      ]
    },
    {
      "cell_type": "code",
      "execution_count": 16,
      "metadata": {
        "colab": {
          "base_uri": "https://localhost:8080/",
          "height": 332
        },
        "id": "yNnR1qsa4FwO",
        "outputId": "dc2ce3c9-8d7c-41bd-856b-a08b1d12e86a"
      },
      "outputs": [
        {
          "data": {
            "text/html": [
              "<div>\n",
              "<style scoped>\n",
              "    .dataframe tbody tr th:only-of-type {\n",
              "        vertical-align: middle;\n",
              "    }\n",
              "\n",
              "    .dataframe tbody tr th {\n",
              "        vertical-align: top;\n",
              "    }\n",
              "\n",
              "    .dataframe thead th {\n",
              "        text-align: right;\n",
              "    }\n",
              "</style>\n",
              "<table border=\"1\" class=\"dataframe\">\n",
              "  <thead>\n",
              "    <tr style=\"text-align: right;\">\n",
              "      <th></th>\n",
              "      <th>Text Content</th>\n",
              "      <th>Code</th>\n",
              "    </tr>\n",
              "  </thead>\n",
              "  <tbody>\n",
              "    <tr>\n",
              "      <th>0</th>\n",
              "      <td>Node.js (JavaScript) Wrapper API</td>\n",
              "      <td>Expected Behaviour</td>\n",
              "    </tr>\n",
              "    <tr>\n",
              "      <th>1</th>\n",
              "      <td>Because JavaScript is Awesome</td>\n",
              "      <td>Motivation</td>\n",
              "    </tr>\n",
              "    <tr>\n",
              "      <th>2</th>\n",
              "      <td>+1!</td>\n",
              "      <td>Social Conversation</td>\n",
              "    </tr>\n",
              "    <tr>\n",
              "      <th>3</th>\n",
              "      <td>+1</td>\n",
              "      <td>Social Conversation</td>\n",
              "    </tr>\n",
              "    <tr>\n",
              "      <th>4</th>\n",
              "      <td>:+1:</td>\n",
              "      <td>Social Conversation</td>\n",
              "    </tr>\n",
              "    <tr>\n",
              "      <th>5</th>\n",
              "      <td>+1</td>\n",
              "      <td>Social Conversation</td>\n",
              "    </tr>\n",
              "    <tr>\n",
              "      <th>6</th>\n",
              "      <td>Just what I was searching for.</td>\n",
              "      <td>Social Conversation</td>\n",
              "    </tr>\n",
              "    <tr>\n",
              "      <th>7</th>\n",
              "      <td>:+1:</td>\n",
              "      <td>Social Conversation</td>\n",
              "    </tr>\n",
              "    <tr>\n",
              "      <th>8</th>\n",
              "      <td>As quoted from the offical website http://www....</td>\n",
              "      <td>Motivation</td>\n",
              "    </tr>\n",
              "  </tbody>\n",
              "</table>\n",
              "</div>"
            ],
            "text/plain": [
              "                                        Text Content                 Code\n",
              "0                   Node.js (JavaScript) Wrapper API   Expected Behaviour\n",
              "1                      Because JavaScript is Awesome           Motivation\n",
              "2                                                +1!  Social Conversation\n",
              "3                                                 +1  Social Conversation\n",
              "4                                               :+1:  Social Conversation\n",
              "5                                                 +1  Social Conversation\n",
              "6                     Just what I was searching for.  Social Conversation\n",
              "7                                               :+1:  Social Conversation\n",
              "8  As quoted from the offical website http://www....           Motivation"
            ]
          },
          "execution_count": 16,
          "metadata": {},
          "output_type": "execute_result"
        }
      ],
      "source": [
        "df_oversampled.head(9)"
      ]
    },
    {
      "cell_type": "code",
      "execution_count": 17,
      "metadata": {
        "colab": {
          "base_uri": "https://localhost:8080/"
        },
        "id": "i2XjBbVa4OLg",
        "outputId": "f6e6130d-79b7-4ba4-c234-ca2858b4bb70"
      },
      "outputs": [
        {
          "name": "stdout",
          "output_type": "stream",
          "text": [
            "<class 'pandas.core.frame.DataFrame'>\n",
            "RangeIndex: 18343 entries, 0 to 18342\n",
            "Data columns (total 2 columns):\n",
            " #   Column        Non-Null Count  Dtype \n",
            "---  ------        --------------  ----- \n",
            " 0   Text Content  18343 non-null  object\n",
            " 1   Code          18343 non-null  object\n",
            "dtypes: object(2)\n",
            "memory usage: 286.7+ KB\n"
          ]
        }
      ],
      "source": [
        "df_oversampled.info()"
      ]
    },
    {
      "cell_type": "code",
      "execution_count": 18,
      "metadata": {
        "colab": {
          "base_uri": "https://localhost:8080/"
        },
        "id": "FGcvwqKW4Slm",
        "outputId": "80acb44f-e81e-40ea-f5f0-a3673bacb5df"
      },
      "outputs": [
        {
          "name": "stdout",
          "output_type": "stream",
          "text": [
            "Expected Behaviour                   1411\n",
            "Motivation                           1411\n",
            "Social Conversation                  1411\n",
            "Contribution and Commitment          1411\n",
            "Solution Discussion                  1411\n",
            "Task Progress                        1411\n",
            "Workarounds                          1411\n",
            "Action on Issue                      1411\n",
            "Potential New Issues and Requests    1411\n",
            "Solution Usage                       1411\n",
            "Observed Bug Behaviour               1411\n",
            "Investigation and Exploration        1411\n",
            "Bug Reproduction                     1411\n",
            "Name: Code, dtype: int64\n"
          ]
        }
      ],
      "source": [
        "class_distribution = df_oversampled['Code'].value_counts()\n",
        "print(class_distribution)"
      ]
    },
    {
      "cell_type": "code",
      "execution_count": 19,
      "metadata": {
        "colab": {
          "base_uri": "https://localhost:8080/"
        },
        "id": "810Eq7Ie4_sN",
        "outputId": "b180330b-8a03-4311-ce5a-f268d93b1aa8"
      },
      "outputs": [
        {
          "name": "stdout",
          "output_type": "stream",
          "text": [
            "                                            Text Content  \\\n",
            "0      I new here but have been trolling for a while,...   \n",
            "1      However, the CPU utilization remains 0 for all...   \n",
            "2              General directions to install on OSX:CODE   \n",
            "3                           *         [cycle_range] URL    \n",
            "4                                        Test code: CODE   \n",
            "...                                                  ...   \n",
            "18338  I mainly created this issue in case someone el...   \n",
            "18339  When I don't specify n_jobs at all it works fi...   \n",
            "18340  This thread has been automatically locked sinc...   \n",
            "18341  Please remove the assignee, as this issue is i...   \n",
            "18342  https://github.com/explosion/spaCy/commits/mas...   \n",
            "\n",
            "                                    Code  \n",
            "0            Contribution and Commitment  \n",
            "1                 Observed Bug Behaviour  \n",
            "2      Potential New Issues and Requests  \n",
            "3                     Expected Behaviour  \n",
            "4          Investigation and Exploration  \n",
            "...                                  ...  \n",
            "18338                         Motivation  \n",
            "18339             Observed Bug Behaviour  \n",
            "18340                    Action on Issue  \n",
            "18341                    Action on Issue  \n",
            "18342                      Task Progress  \n",
            "\n",
            "[18343 rows x 2 columns]\n"
          ]
        }
      ],
      "source": [
        "import pandas as pd\n",
        "\n",
        "\n",
        "# Shuffle the rows\n",
        "df_oversampled_shuffled = df_oversampled.sample(frac=1, random_state=42)\n",
        "\n",
        "# Reset the index of the shuffled DataFrame\n",
        "df_oversampled_shuffled = df_oversampled_shuffled.reset_index(drop=True)\n",
        "\n",
        "# Print the shuffled DataFrame\n",
        "print(df_oversampled_shuffled)\n"
      ]
    },
    {
      "cell_type": "code",
      "execution_count": 20,
      "metadata": {
        "colab": {
          "base_uri": "https://localhost:8080/",
          "height": 175
        },
        "id": "SkazgI4O5Irl",
        "outputId": "74796beb-5c8a-4b38-cb1e-3a81adc0d925"
      },
      "outputs": [
        {
          "data": {
            "text/html": [
              "<div>\n",
              "<style scoped>\n",
              "    .dataframe tbody tr th:only-of-type {\n",
              "        vertical-align: middle;\n",
              "    }\n",
              "\n",
              "    .dataframe tbody tr th {\n",
              "        vertical-align: top;\n",
              "    }\n",
              "\n",
              "    .dataframe thead th {\n",
              "        text-align: right;\n",
              "    }\n",
              "</style>\n",
              "<table border=\"1\" class=\"dataframe\">\n",
              "  <thead>\n",
              "    <tr style=\"text-align: right;\">\n",
              "      <th></th>\n",
              "      <th>Text Content</th>\n",
              "      <th>Code</th>\n",
              "    </tr>\n",
              "  </thead>\n",
              "  <tbody>\n",
              "    <tr>\n",
              "      <th>0</th>\n",
              "      <td>Node.js (JavaScript) Wrapper API</td>\n",
              "      <td>Expected Behaviour</td>\n",
              "    </tr>\n",
              "    <tr>\n",
              "      <th>1</th>\n",
              "      <td>Because JavaScript is Awesome</td>\n",
              "      <td>Motivation</td>\n",
              "    </tr>\n",
              "    <tr>\n",
              "      <th>2</th>\n",
              "      <td>+1!</td>\n",
              "      <td>Social Conversation</td>\n",
              "    </tr>\n",
              "    <tr>\n",
              "      <th>3</th>\n",
              "      <td>+1</td>\n",
              "      <td>Social Conversation</td>\n",
              "    </tr>\n",
              "  </tbody>\n",
              "</table>\n",
              "</div>"
            ],
            "text/plain": [
              "                       Text Content                 Code\n",
              "0  Node.js (JavaScript) Wrapper API   Expected Behaviour\n",
              "1     Because JavaScript is Awesome           Motivation\n",
              "2                               +1!  Social Conversation\n",
              "3                                +1  Social Conversation"
            ]
          },
          "execution_count": 20,
          "metadata": {},
          "output_type": "execute_result"
        }
      ],
      "source": [
        "df_oversampled.head(4)"
      ]
    },
    {
      "cell_type": "code",
      "execution_count": 21,
      "metadata": {
        "id": "TObGWa4S4d5v"
      },
      "outputs": [],
      "source": [
        "df_oversampled.to_csv(\"../data/old_data_oversampled.csv\")"
      ]
    }
  ],
  "metadata": {
    "colab": {
      "provenance": []
    },
    "kernelspec": {
      "display_name": "Python 3",
      "name": "python3"
    },
    "language_info": {
      "codemirror_mode": {
        "name": "ipython",
        "version": 3
      },
      "file_extension": ".py",
      "mimetype": "text/x-python",
      "name": "python",
      "nbconvert_exporter": "python",
      "pygments_lexer": "ipython3",
      "version": "3.11.8"
    }
  },
  "nbformat": 4,
  "nbformat_minor": 0
}
